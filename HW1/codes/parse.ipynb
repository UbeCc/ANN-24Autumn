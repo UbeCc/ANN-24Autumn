{
 "cells": [
  {
   "cell_type": "code",
   "execution_count": 1,
   "metadata": {},
   "outputs": [
    {
     "ename": "ValueError",
     "evalue": "invalid literal for int() with base 10: 'epoch...'",
     "output_type": "error",
     "traceback": [
      "\u001b[0;31m---------------------------------------------------------------------------\u001b[0m",
      "\u001b[0;31mValueError\u001b[0m                                Traceback (most recent call last)",
      "Cell \u001b[0;32mIn[1], line 33\u001b[0m\n\u001b[1;32m     30\u001b[0m \u001b[38;5;28;01mfor\u001b[39;00m line \u001b[38;5;129;01min\u001b[39;00m data\u001b[38;5;241m.\u001b[39msplit(\u001b[38;5;124m'\u001b[39m\u001b[38;5;130;01m\\n\u001b[39;00m\u001b[38;5;124m'\u001b[39m):\n\u001b[1;32m     31\u001b[0m     \u001b[38;5;66;03m# 检查是否是新的epoch\u001b[39;00m\n\u001b[1;32m     32\u001b[0m     \u001b[38;5;28;01mif\u001b[39;00m \u001b[38;5;124m'\u001b[39m\u001b[38;5;124mTraining @\u001b[39m\u001b[38;5;124m'\u001b[39m \u001b[38;5;129;01min\u001b[39;00m line:\n\u001b[0;32m---> 33\u001b[0m         current_epoch \u001b[38;5;241m=\u001b[39m \u001b[38;5;28;43mint\u001b[39;49m\u001b[43m(\u001b[49m\u001b[43mline\u001b[49m\u001b[38;5;241;43m.\u001b[39;49m\u001b[43msplit\u001b[49m\u001b[43m(\u001b[49m\u001b[43m)\u001b[49m\u001b[43m[\u001b[49m\u001b[38;5;241;43m-\u001b[39;49m\u001b[38;5;241;43m1\u001b[39;49m\u001b[43m]\u001b[49m\u001b[43m)\u001b[49m\n\u001b[1;32m     34\u001b[0m     \u001b[38;5;66;03m# 提取训练loss\u001b[39;00m\n\u001b[1;32m     35\u001b[0m     \u001b[38;5;28;01melif\u001b[39;00m \u001b[38;5;124m'\u001b[39m\u001b[38;5;124mTraining iter\u001b[39m\u001b[38;5;124m'\u001b[39m \u001b[38;5;129;01min\u001b[39;00m line:\n",
      "\u001b[0;31mValueError\u001b[0m: invalid literal for int() with base 10: 'epoch...'"
     ]
    }
   ],
   "source": [
    "import re\n",
    "\n",
    "# 模拟的文本数据\n",
    "data = \"\"\"\n",
    "15 00:34:45.345   Training iter 500, batch loss 2.3015, batch acc 0.1135\n",
    "16 00:34:48.214   Training iter 600, batch loss 2.3005, batch acc 0.1186\n",
    "17 00:34:48.223 Testing @ 1 epoch...\n",
    "18 00:34:48.708     Testing, total mean loss 2.30118, total acc 0.11350\n",
    "19 00:34:48.710 Training @ 2 epoch...\n",
    "20 00:34:51.553   Training iter 100, batch loss 2.3010, batch acc 0.1129\n",
    "...\n",
    "36 00:35:21.333     Testing, total mean loss 2.30104, total acc 0.11350\n",
    "\"\"\"\n",
    "\n",
    "# 初始化两个列表来存储训练loss和测试accuracy\n",
    "training_loss = []\n",
    "testing_accuracy = []\n",
    "\n",
    "# 使用正则表达式匹配训练和测试数据\n",
    "training_pattern = re.compile(r'Training iter \\d+, batch loss ([\\d.]+), batch acc [\\d.]+')\n",
    "testing_pattern = re.compile(r'Testing, total mean loss [\\d.]+, total acc ([\\d.]+)')\n",
    "\n",
    "# 当前epoch\n",
    "current_epoch = 0\n",
    "\n",
    "# 存储每个epoch的最后一个loss\n",
    "epoch_loss = {}\n",
    "\n",
    "# 处理每一行数据\n",
    "for line in data.split('\\n'):\n",
    "    # 检查是否是新的epoch\n",
    "    if 'Training @' in line:\n",
    "        current_epoch = int(line.split()[-1])\n",
    "    # 提取训练loss\n",
    "    elif 'Training iter' in line:\n",
    "        match = training_pattern.search(line)\n",
    "        if match:\n",
    "            loss = float(match.group(1))\n",
    "            epoch_loss[current_epoch] = loss\n",
    "    # 提取测试accuracy\n",
    "    elif 'Testing' in line and 'total acc' in line:\n",
    "        match = testing_pattern.search(line)\n",
    "        if match:\n",
    "            accuracy = float(match.group(1))\n",
    "            if current_epoch not in epoch_loss:\n",
    "                epoch_loss[current_epoch] = None  # 如果该epoch没有训练loss，标记为None\n",
    "            training_loss.append(epoch_loss[current_epoch])\n",
    "            testing_accuracy.append(accuracy)\n",
    "\n",
    "# 打印结果\n",
    "print(\"Training Losses:\", training_loss)\n",
    "print(\"Testing Accuracies:\", testing_accuracy)"
   ]
  }
 ],
 "metadata": {
  "kernelspec": {
   "display_name": "inf",
   "language": "python",
   "name": "python3"
  },
  "language_info": {
   "codemirror_mode": {
    "name": "ipython",
    "version": 3
   },
   "file_extension": ".py",
   "mimetype": "text/x-python",
   "name": "python",
   "nbconvert_exporter": "python",
   "pygments_lexer": "ipython3",
   "version": "3.11.0"
  }
 },
 "nbformat": 4,
 "nbformat_minor": 2
}
